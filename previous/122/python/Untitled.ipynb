{
 "cells": [
  {
   "cell_type": "code",
   "execution_count": 2,
   "metadata": {},
   "outputs": [
    {
     "name": "stdout",
     "output_type": "stream",
     "text": [
      " 驱动器 D 中的卷是 Data\n",
      " 卷的序列号是 76A4-855C\n",
      "\n",
      " D:\\project\\leetcode\\122\\python 的目录\n",
      "\n",
      "2020/11/09  11:58    <DIR>          .\n",
      "2020/11/09  11:58    <DIR>          ..\n",
      "2020/11/09  11:57    <DIR>          .idea\n",
      "2020/11/09  11:58    <DIR>          .ipynb_checkpoints\n",
      "2020/11/08  12:14               309 solve1.py\n",
      "2020/11/09  11:58                72 Untitled.ipynb\n",
      "               2 个文件            381 字节\n",
      "               4 个目录 235,960,315,904 可用字节\n"
     ]
    }
   ],
   "source": [
    "!dir"
   ]
  },
  {
   "cell_type": "code",
   "execution_count": null,
   "metadata": {},
   "outputs": [],
   "source": [
    "fr"
   ]
  }
 ],
 "metadata": {
  "kernelspec": {
   "display_name": "Python 3",
   "language": "python",
   "name": "python3"
  },
  "language_info": {
   "codemirror_mode": {
    "name": "ipython",
    "version": 3
   },
   "file_extension": ".py",
   "mimetype": "text/x-python",
   "name": "python",
   "nbconvert_exporter": "python",
   "pygments_lexer": "ipython3",
   "version": "3.7.7"
  }
 },
 "nbformat": 4,
 "nbformat_minor": 4
}
